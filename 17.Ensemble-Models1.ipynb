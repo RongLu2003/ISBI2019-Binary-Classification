{
 "cells": [
  {
   "cell_type": "code",
   "execution_count": 1,
   "metadata": {},
   "outputs": [],
   "source": [
    "import warnings\n",
    "warnings.filterwarnings('always')\n",
    "warnings.filterwarnings('ignore')"
   ]
  },
  {
   "cell_type": "code",
   "execution_count": 2,
   "metadata": {},
   "outputs": [
    {
     "data": {
      "text/plain": [
       "[name: \"/device:CPU:0\"\n",
       " device_type: \"CPU\"\n",
       " memory_limit: 268435456\n",
       " locality {\n",
       " }\n",
       " incarnation: 797155586758859868, name: \"/device:GPU:0\"\n",
       " device_type: \"GPU\"\n",
       " memory_limit: 9221160305\n",
       " locality {\n",
       "   bus_id: 1\n",
       "   links {\n",
       "   }\n",
       " }\n",
       " incarnation: 6931650197846934814\n",
       " physical_device_desc: \"device: 0, name: GeForce GTX 1080 Ti, pci bus id: 0000:01:00.0, compute capability: 6.1\", name: \"/device:GPU:1\"\n",
       " device_type: \"GPU\"\n",
       " memory_limit: 6683898676\n",
       " locality {\n",
       "   bus_id: 1\n",
       "   links {\n",
       "   }\n",
       " }\n",
       " incarnation: 4390883013433666553\n",
       " physical_device_desc: \"device: 1, name: GeForce GTX 1070 Ti, pci bus id: 0000:02:00.0, compute capability: 6.1\"]"
      ]
     },
     "execution_count": 2,
     "metadata": {},
     "output_type": "execute_result"
    }
   ],
   "source": [
    "from tensorflow.python.client import device_lib\n",
    "device_lib.list_local_devices()"
   ]
  },
  {
   "cell_type": "code",
   "execution_count": 5,
   "metadata": {},
   "outputs": [],
   "source": [
    "import os\n",
    "import numpy as np\n",
    "np.random.seed(777)\n",
    "\n",
    "from keras.models import Model,load_model\n",
    "from keras import Input\n",
    "from keras.layers import concatenate,Dense,Flatten,Dropout\n",
    "from keras.preprocessing.image import  ImageDataGenerator\n",
    "import keras.backend as K\n",
    "\n",
    "from keras.utils import plot_model\n",
    "\n",
    "from keras.optimizers import SGD, Adam, RMSprop"
   ]
  },
  {
   "cell_type": "code",
   "execution_count": 6,
   "metadata": {},
   "outputs": [
    {
     "name": "stdout",
     "output_type": "stream",
     "text": [
      "Keras Version 2.1.6\n",
      "tensorflow Version 1.10.0\n",
      "dim_ordering: tf\n"
     ]
    }
   ],
   "source": [
    "import keras\n",
    "print(\"Keras Version\", keras.__version__)\n",
    "\n",
    "import tensorflow as tf\n",
    "\n",
    "print(\"tensorflow Version\", tf.__version__)\n",
    "\n",
    "\n",
    "print(\"dim_ordering:\", K.image_dim_ordering())"
   ]
  },
  {
   "cell_type": "code",
   "execution_count": 7,
   "metadata": {},
   "outputs": [],
   "source": [
    "output_classes = 2\n",
    "batch_size = 8\n",
    "img_height, img_width = 224, 224\n",
    "input_shape = (img_height, img_width, 3)\n",
    "epochs = 50\n",
    "\n",
    "nb_train_samples = 59168\n",
    "nb_validation_samples = 18384\n",
    "nb_test_samples = 967"
   ]
  },
  {
   "cell_type": "code",
   "execution_count": 8,
   "metadata": {},
   "outputs": [],
   "source": [
    "train_dir = 'data/train/'\n",
    "validation_dir = 'data/validation'\n",
    "test_dir = 'data/test'"
   ]
  },
  {
   "cell_type": "code",
   "execution_count": 9,
   "metadata": {},
   "outputs": [
    {
     "name": "stdout",
     "output_type": "stream",
     "text": [
      "Found 59168 images belonging to 2 classes.\n",
      "Found 18384 images belonging to 2 classes.\n",
      "Found 967 images belonging to 2 classes.\n"
     ]
    }
   ],
   "source": [
    "random_seed = np.random.seed(1142)\n",
    "\n",
    "train_datagen = ImageDataGenerator(\n",
    "    rescale=1. / 255,\n",
    "    featurewise_center=True,\n",
    "    featurewise_std_normalization=True)\n",
    "\n",
    "train_generator = train_datagen.flow_from_directory(\n",
    "    train_dir,\n",
    "    target_size=(img_height, img_width),\n",
    "    batch_size=batch_size,\n",
    "    seed = random_seed,\n",
    "    shuffle = True,\n",
    "    class_mode='categorical')\n",
    "\n",
    "validation_generator = train_datagen.flow_from_directory(\n",
    "    validation_dir,\n",
    "    target_size=(img_height, img_width),\n",
    "    batch_size=batch_size,\n",
    "    seed = random_seed,\n",
    "    shuffle = True,\n",
    "    class_mode='categorical')\n",
    "\n",
    "test_datagen = ImageDataGenerator(rescale=1. / 255)\n",
    "\n",
    "test_generator = test_datagen.flow_from_directory(\n",
    "    test_dir,\n",
    "    target_size=(img_height, img_width),\n",
    "    batch_size=batch_size,\n",
    "    seed = random_seed,\n",
    "    shuffle = False,\n",
    "    class_mode='categorical')"
   ]
  },
  {
   "cell_type": "code",
   "execution_count": 10,
   "metadata": {},
   "outputs": [],
   "source": [
    "adam_opt = Adam(lr=1e-5, beta_1=0.9, beta_2=0.999, epsilon=1e-08, decay=1e-5)\n",
    "sgd_opt = SGD(lr=1e-06, momentum=0.0, decay=0.0, nesterov=False)\n",
    "rmsp_opt = RMSprop(lr=1e-4, decay=0.9)"
   ]
  },
  {
   "cell_type": "code",
   "execution_count": 11,
   "metadata": {},
   "outputs": [],
   "source": [
    "# for i, layer in enumerate(model.layers):\n",
    "#     print(i, layer.name)"
   ]
  },
  {
   "cell_type": "code",
   "execution_count": 12,
   "metadata": {},
   "outputs": [],
   "source": [
    "# NasNetLarge_model = load_model('models/5.NASNetLarge-ISBI19-DataSet-Model.h5')\n",
    "# NasNetLarge_model = Model(inputs= NasNetLarge_model.input,outputs = NasNetLarge_model.get_layer('dense_2').output, name='NasNetLarge_model')"
   ]
  },
  {
   "cell_type": "code",
   "execution_count": 13,
   "metadata": {},
   "outputs": [],
   "source": [
    "# InceptionResNetV2_model = load_model('models/5.InceptionResNetV2-ISBI19-Model.h5')\n",
    "# InceptionResNetV2_model = Model(inputs=resnet_model.input,outputs=resnet_model.get_layer('dense_2').output,name='InceptionResNetV2_model')"
   ]
  },
  {
   "cell_type": "code",
   "execution_count": 14,
   "metadata": {},
   "outputs": [
    {
     "name": "stdout",
     "output_type": "stream",
     "text": [
      "WARNING:tensorflow:Variable *= will be deprecated. Use `var.assign(var * other)` if you want assignment to the variable value or `x = x * y` if you want a new python Tensor object.\n"
     ]
    }
   ],
   "source": [
    "DenseNet201_model = load_model('models/12.DenseNet201-ISIB19-DataSet-Model.h5')\n",
    "DenseNet201_model = Model(inputs=DenseNet201_model.input, outputs=DenseNet201_model.get_layer('dense_3').output, name='DenseNet201_model')"
   ]
  },
  {
   "cell_type": "code",
   "execution_count": 15,
   "metadata": {},
   "outputs": [],
   "source": [
    "InceptionV3_model = load_model('models/9.InceptionV3-ISBI19-DataSet-Model.h5')\n",
    "InceptionV3_model = Model(inputs = InceptionV3_model.input,outputs = InceptionV3_model.get_layer('dense_3').output, name='InceptionV3_model')"
   ]
  },
  {
   "cell_type": "code",
   "execution_count": 16,
   "metadata": {},
   "outputs": [],
   "source": [
    "VGG16_model = load_model('models/13.VGG16-ISIB19-Model.h5')\n",
    "VGG16_model = Model(inputs = VGG16_model.input,outputs = VGG16_model.get_layer('dense_8').output, name='VGG16_model')"
   ]
  },
  {
   "cell_type": "code",
   "execution_count": 17,
   "metadata": {},
   "outputs": [],
   "source": [
    "# def ensemble(input_shape, num_class, epochs, savepath = './ensemble.h5'):\n",
    "    \n",
    "#     img = Input(shape=(224, 224,3),name='img')\n",
    "    \n",
    "#     feature1=DenseNet201_model(img)\n",
    "#     feature2=InceptionV3_model(img)\n",
    "    \n",
    "#     for layer in InceptionV3_model.layers[:300]:  \n",
    "#         layer.trainable = False \n",
    "#     for layer in InceptionV3_model.layers[300:]:  \n",
    "#         layer.trainable = True  \n",
    "    \n",
    "#     feature3=VGG16_model(img)\n",
    "#     for layer in VGG16_model.layers[:170]:  \n",
    "#         layer.trainable = False \n",
    "#     for layer in VGG16_model.layers[170:]:  \n",
    "#         layer.trainable = True  \n",
    "    \n",
    "    \n",
    "#     x = concatenate([feature1,feature2,feature3])\n",
    "    \n",
    "#     x = Dropout(0.5)(x)\n",
    "#     x = Dense(64,activation='relu')(x)\n",
    "#     x = Dropout(0.25)(x)\n",
    "#     output = Dense(2, activation='softmax', name='output')(x)\n",
    "    \n",
    "    \n",
    "#     model=Model(inputs=img,outputs=output)\n",
    "    \n",
    "# #     plot_model(model=model,to_file='./ensemble.jpg')\n",
    "    \n",
    "#     adam_opt = Adam(lr=1e-5, beta_1=0.9, beta_2=0.999, epsilon=1e-08, decay=1e-5)\n",
    "#     sgd_opt = SGD(lr=1e-06, momentum=0.0, decay=0.0, nesterov=False)\n",
    "#     rmsp_opt = RMSprop(lr=1e-4, decay=0.9)\n",
    "#     opt = keras.optimizers.Adam(lr=0.001, beta_1=0.9, beta_2=0.999, epsilon=1e-08)\n",
    "#     model.compile(loss='categorical_crossentropy',\\\n",
    "# #                   optimizer=SGD(lr=0.001, momentum=0.9),\n",
    "#                   optimizer=adam_opt,\n",
    "#                   metrics=['accuracy'])\n",
    "\n",
    "#     hist = model.fit_generator(\n",
    "#     train_generator,\n",
    "#     steps_per_epoch=nb_train_samples // batch_size,\n",
    "#     epochs=epochs,\n",
    "#     validation_data=validation_generator,\n",
    "#     validation_steps=nb_validation_samples // batch_size,\n",
    "#     workers=8\n",
    "#     )\n",
    "#     with open('ensemble.txt','w') as f:\n",
    "#         f.write(str(hist.history))"
   ]
  },
  {
   "cell_type": "code",
   "execution_count": null,
   "metadata": {},
   "outputs": [
    {
     "name": "stdout",
     "output_type": "stream",
     "text": [
      "Epoch 1/50\n",
      "7396/7396 [==============================] - 2556s 346ms/step - loss: 0.5074 - acc: 0.8424 - val_loss: 0.3281 - val_acc: 0.9556\n",
      "Epoch 2/50\n",
      "7396/7396 [==============================] - 2495s 337ms/step - loss: 0.2864 - acc: 0.9415 - val_loss: 0.2323 - val_acc: 0.9562\n",
      "Epoch 3/50\n",
      "7396/7396 [==============================] - 2492s 337ms/step - loss: 0.2171 - acc: 0.9505 - val_loss: 0.2031 - val_acc: 0.9606\n",
      "Epoch 4/50\n",
      "7396/7396 [==============================] - 2495s 337ms/step - loss: 0.1968 - acc: 0.9493 - val_loss: 0.2022 - val_acc: 0.9615\n",
      "Epoch 5/50\n",
      "7396/7396 [==============================] - 2493s 337ms/step - loss: 0.1854 - acc: 0.9511 - val_loss: 0.2025 - val_acc: 0.9611\n",
      "Epoch 6/50\n",
      "7396/7396 [==============================] - 2500s 338ms/step - loss: 0.1791 - acc: 0.9512 - val_loss: 0.2043 - val_acc: 0.9607\n",
      "Epoch 7/50\n",
      "5984/7396 [=======================>......] - ETA: 7:01 - loss: 0.1730 - acc: 0.9528"
     ]
    }
   ],
   "source": [
    "# ensemble_model = ensemble(input_shape, num_class = 2, epochs = 50)"
   ]
  },
  {
   "cell_type": "code",
   "execution_count": 17,
   "metadata": {},
   "outputs": [],
   "source": [
    "img = Input(shape=(224, 224,3),name='img')\n",
    "\n",
    "feature1=DenseNet201_model(img)\n",
    "feature2=InceptionV3_model(img)\n",
    "\n",
    "for layer in InceptionV3_model.layers[:300]:  \n",
    "    layer.trainable = False \n",
    "for layer in InceptionV3_model.layers[300:]:  \n",
    "    layer.trainable = True  \n",
    "\n",
    "feature3=VGG16_model(img)\n",
    "for layer in VGG16_model.layers[:170]:  \n",
    "    layer.trainable = False \n",
    "for layer in VGG16_model.layers[170:]:  \n",
    "    layer.trainable = True  \n",
    "\n",
    "x = concatenate([feature1,feature2,feature3])\n",
    "\n",
    "x = Dropout(0.5)(x)\n",
    "x = Dense(64,activation='relu')(x)\n",
    "x = Dropout(0.25)(x)\n",
    "output = Dense(2, activation='softmax', name='output')(x)\n",
    "\n",
    "model=Model(inputs=img,outputs=output)"
   ]
  },
  {
   "cell_type": "code",
   "execution_count": null,
   "metadata": {},
   "outputs": [],
   "source": [
    "#     plot_model(model=model,to_file='./ensemble.jpg')"
   ]
  },
  {
   "cell_type": "code",
   "execution_count": null,
   "metadata": {},
   "outputs": [
    {
     "name": "stdout",
     "output_type": "stream",
     "text": [
      "Epoch 1/50\n"
     ]
    }
   ],
   "source": [
    "model.compile(loss='categorical_crossentropy', optimizer=adam_opt, metrics=['accuracy'])\n",
    "\n",
    "history = model.fit_generator(\n",
    "train_generator,\n",
    "steps_per_epoch=nb_train_samples // batch_size,\n",
    "epochs=epochs,\n",
    "validation_data=validation_generator,\n",
    "validation_steps=nb_validation_samples // batch_size,\n",
    "workers=8\n",
    ")\n",
    "with open('ensemble.txt','w') as f:\n",
    "    f.write(str(hist.history))"
   ]
  },
  {
   "cell_type": "code",
   "execution_count": null,
   "metadata": {},
   "outputs": [],
   "source": []
  },
  {
   "cell_type": "code",
   "execution_count": null,
   "metadata": {},
   "outputs": [],
   "source": []
  },
  {
   "cell_type": "code",
   "execution_count": null,
   "metadata": {},
   "outputs": [],
   "source": []
  },
  {
   "cell_type": "code",
   "execution_count": null,
   "metadata": {},
   "outputs": [],
   "source": []
  },
  {
   "cell_type": "code",
   "execution_count": null,
   "metadata": {},
   "outputs": [],
   "source": []
  },
  {
   "cell_type": "code",
   "execution_count": null,
   "metadata": {},
   "outputs": [],
   "source": []
  },
  {
   "cell_type": "code",
   "execution_count": null,
   "metadata": {},
   "outputs": [],
   "source": []
  },
  {
   "cell_type": "code",
   "execution_count": null,
   "metadata": {},
   "outputs": [],
   "source": []
  },
  {
   "cell_type": "code",
   "execution_count": null,
   "metadata": {},
   "outputs": [],
   "source": []
  }
 ],
 "metadata": {
  "kernelspec": {
   "display_name": "Python 3",
   "language": "python",
   "name": "python3"
  },
  "language_info": {
   "codemirror_mode": {
    "name": "ipython",
    "version": 3
   },
   "file_extension": ".py",
   "mimetype": "text/x-python",
   "name": "python",
   "nbconvert_exporter": "python",
   "pygments_lexer": "ipython3",
   "version": "3.6.5"
  }
 },
 "nbformat": 4,
 "nbformat_minor": 2
}
